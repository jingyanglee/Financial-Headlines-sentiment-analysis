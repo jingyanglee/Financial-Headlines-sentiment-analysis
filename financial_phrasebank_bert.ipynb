{
 "cells": [
  {
   "cell_type": "code",
   "execution_count": 1,
   "metadata": {},
   "outputs": [
    {
     "name": "stderr",
     "output_type": "stream",
     "text": [
      "Reusing dataset financial_phrasebank (/home/jingyang/.cache/huggingface/datasets/financial_phrasebank/sentences_75agree/1.0.0/a6d468761d4e0c8ae215c77367e1092bead39deb08fbf4bffd7c0a6991febbf0)\n"
     ]
    },
    {
     "data": {
      "application/vnd.jupyter.widget-view+json": {
       "model_id": "977c1736502a4becb8ab46ee71871545",
       "version_major": 2,
       "version_minor": 0
      },
      "text/plain": [
       "  0%|          | 0/1 [00:00<?, ?it/s]"
      ]
     },
     "metadata": {},
     "output_type": "display_data"
    },
    {
     "name": "stdout",
     "output_type": "stream",
     "text": [
      "{'sentence': 'According to Gran , the company has no plans to move all production to Russia , although that is where the company is growing .', 'label': 1}\n"
     ]
    }
   ],
   "source": [
    "#Load 'financial_phrasebank' corpus \n",
    "from datasets import load_dataset\n",
    "datasets = load_dataset('financial_phrasebank', 'sentences_75agree')\n",
    "print(datasets[\"train\"][0])"
   ]
  },
  {
   "cell_type": "code",
   "execution_count": 2,
   "metadata": {},
   "outputs": [
    {
     "data": {
      "text/html": [
       "<div>\n",
       "<style scoped>\n",
       "    .dataframe tbody tr th:only-of-type {\n",
       "        vertical-align: middle;\n",
       "    }\n",
       "\n",
       "    .dataframe tbody tr th {\n",
       "        vertical-align: top;\n",
       "    }\n",
       "\n",
       "    .dataframe thead th {\n",
       "        text-align: right;\n",
       "    }\n",
       "</style>\n",
       "<table border=\"1\" class=\"dataframe\">\n",
       "  <thead>\n",
       "    <tr style=\"text-align: right;\">\n",
       "      <th></th>\n",
       "      <th>sentence</th>\n",
       "      <th>label</th>\n",
       "    </tr>\n",
       "  </thead>\n",
       "  <tbody>\n",
       "    <tr>\n",
       "      <th>0</th>\n",
       "      <td>According to Gran , the company has no plans t...</td>\n",
       "      <td>1</td>\n",
       "    </tr>\n",
       "    <tr>\n",
       "      <th>1</th>\n",
       "      <td>With the new production plant the company woul...</td>\n",
       "      <td>2</td>\n",
       "    </tr>\n",
       "    <tr>\n",
       "      <th>2</th>\n",
       "      <td>For the last quarter of 2010 , Componenta 's n...</td>\n",
       "      <td>2</td>\n",
       "    </tr>\n",
       "    <tr>\n",
       "      <th>3</th>\n",
       "      <td>In the third quarter of 2010 , net sales incre...</td>\n",
       "      <td>2</td>\n",
       "    </tr>\n",
       "    <tr>\n",
       "      <th>4</th>\n",
       "      <td>Operating profit rose to EUR 13.1 mn from EUR ...</td>\n",
       "      <td>2</td>\n",
       "    </tr>\n",
       "  </tbody>\n",
       "</table>\n",
       "</div>"
      ],
      "text/plain": [
       "                                            sentence  label\n",
       "0  According to Gran , the company has no plans t...      1\n",
       "1  With the new production plant the company woul...      2\n",
       "2  For the last quarter of 2010 , Componenta 's n...      2\n",
       "3  In the third quarter of 2010 , net sales incre...      2\n",
       "4  Operating profit rose to EUR 13.1 mn from EUR ...      2"
      ]
     },
     "execution_count": 2,
     "metadata": {},
     "output_type": "execute_result"
    }
   ],
   "source": [
    "#Load corpus into dataframe\n",
    "import pandas as pd\n",
    "df = pd.DataFrame.from_dict(datasets[\"train\"])\n",
    "df.head(5)"
   ]
  },
  {
   "cell_type": "code",
   "execution_count": 3,
   "metadata": {},
   "outputs": [
    {
     "name": "stderr",
     "output_type": "stream",
     "text": [
      "[nltk_data] Downloading package stopwords to\n",
      "[nltk_data]     /home/jingyang/nltk_data...\n",
      "[nltk_data]   Package stopwords is already up-to-date!\n"
     ]
    },
    {
     "data": {
      "text/html": [
       "<div>\n",
       "<style scoped>\n",
       "    .dataframe tbody tr th:only-of-type {\n",
       "        vertical-align: middle;\n",
       "    }\n",
       "\n",
       "    .dataframe tbody tr th {\n",
       "        vertical-align: top;\n",
       "    }\n",
       "\n",
       "    .dataframe thead th {\n",
       "        text-align: right;\n",
       "    }\n",
       "</style>\n",
       "<table border=\"1\" class=\"dataframe\">\n",
       "  <thead>\n",
       "    <tr style=\"text-align: right;\">\n",
       "      <th></th>\n",
       "      <th>sentence</th>\n",
       "      <th>label</th>\n",
       "    </tr>\n",
       "  </thead>\n",
       "  <tbody>\n",
       "    <tr>\n",
       "      <th>0</th>\n",
       "      <td>according to gran the company has no plans to ...</td>\n",
       "      <td>1</td>\n",
       "    </tr>\n",
       "    <tr>\n",
       "      <th>1</th>\n",
       "      <td>with the new production plant the company woul...</td>\n",
       "      <td>2</td>\n",
       "    </tr>\n",
       "    <tr>\n",
       "      <th>2</th>\n",
       "      <td>for the last quarter of 2010 componenta s net ...</td>\n",
       "      <td>2</td>\n",
       "    </tr>\n",
       "    <tr>\n",
       "      <th>3</th>\n",
       "      <td>in the third quarter of 2010 net sales increas...</td>\n",
       "      <td>2</td>\n",
       "    </tr>\n",
       "    <tr>\n",
       "      <th>4</th>\n",
       "      <td>operating profit rose to eur 13 1 mn from eur ...</td>\n",
       "      <td>2</td>\n",
       "    </tr>\n",
       "  </tbody>\n",
       "</table>\n",
       "</div>"
      ],
      "text/plain": [
       "                                            sentence  label\n",
       "0  according to gran the company has no plans to ...      1\n",
       "1  with the new production plant the company woul...      2\n",
       "2  for the last quarter of 2010 componenta s net ...      2\n",
       "3  in the third quarter of 2010 net sales increas...      2\n",
       "4  operating profit rose to eur 13 1 mn from eur ...      2"
      ]
     },
     "execution_count": 3,
     "metadata": {},
     "output_type": "execute_result"
    }
   ],
   "source": [
    "#Clean sentences. All punctuation, special characters are removed. All uppercase letters are converted to lowercase.\n",
    "import nltk\n",
    "nltk.download('stopwords')\n",
    "from nltk.corpus import stopwords\n",
    "import string\n",
    "import re\n",
    "\n",
    "table = str.maketrans('', '', string.punctuation)\n",
    "\n",
    "def clean(sent):\n",
    "    words = re.split(r'\\W+', sent)\n",
    "    rem_punc = [word.translate(table) for word in words]\n",
    "    cleaned =  ' '.join(word.lower() for word in rem_punc)\n",
    "    return cleaned\n",
    "\n",
    "df['sentence'] = df['sentence'].apply(lambda sent: clean(sent))\n",
    "df.head(5)"
   ]
  },
  {
   "cell_type": "code",
   "execution_count": 4,
   "metadata": {},
   "outputs": [],
   "source": [
    "#train test split\n",
    "from sklearn.model_selection import train_test_split\n",
    "\n",
    "train_data, data = train_test_split(df, test_size=0.2)\n",
    "valid_data, test_data = train_test_split(data, test_size=0.5)"
   ]
  },
  {
   "cell_type": "code",
   "execution_count": 5,
   "metadata": {},
   "outputs": [
    {
     "name": "stdout",
     "output_type": "stream",
     "text": [
      "Train size:  2762\n",
      "Valid size:  345\n",
      "Test size:  346\n"
     ]
    }
   ],
   "source": [
    "print('Train size: ',len(train_data))\n",
    "print('Valid size: ',len(valid_data))\n",
    "print('Test size: ',len(test_data))"
   ]
  },
  {
   "cell_type": "code",
   "execution_count": 3,
   "metadata": {},
   "outputs": [],
   "source": [
    "#Select pretrained language model. \n",
    "#BERT = 'bert-base-uncased'\n",
    "#RoBERTa = 'roberta-base'\n",
    "#ALBERT = 'albert-base-v2'\n",
    "#distilBERT = 'distilbert-base-uncased'\n",
    "model_name = 'bert-base-uncased'"
   ]
  },
  {
   "cell_type": "code",
   "execution_count": 7,
   "metadata": {},
   "outputs": [],
   "source": [
    "#Preprocess text inputs via appropriate tokenizer class\n",
    "from transformers import AutoTokenizer\n",
    "tokenizer = AutoTokenizer.from_pretrained(model_name)\n",
    "\n",
    "train_texts = train_data['sentence'].values.tolist()\n",
    "valid_texts = valid_data['sentence'].values.tolist()\n",
    "test_texts = test_data['sentence'].values.tolist()\n",
    "train_encodings = tokenizer(train_texts, padding='max_length')\n",
    "valid_encodings = tokenizer(valid_texts, padding='max_length')\n",
    "test_encodings = tokenizer(test_texts, padding='max_length')\n",
    "\n",
    "train_labels = train_data['label'].values.tolist()\n",
    "valid_labels = valid_data['label'].values.tolist()\n",
    "test_labels = test_data['label'].values.tolist()"
   ]
  },
  {
   "cell_type": "code",
   "execution_count": 8,
   "metadata": {},
   "outputs": [],
   "source": [
    "#Define custom dataset for training\n",
    "import torch\n",
    "from torch.utils.data import DataLoader\n",
    "class Dataset(torch.utils.data.Dataset):\n",
    "    def __init__(self, encodings, labels):\n",
    "        self.encodings = encodings\n",
    "        self.labels = labels\n",
    "\n",
    "    def __getitem__(self, idx):\n",
    "        item = {key: torch.tensor(val[idx]) for key, val in self.encodings.items()}\n",
    "        item['labels'] = torch.tensor(self.labels[idx])\n",
    "        return item\n",
    "\n",
    "    def __len__(self):\n",
    "        return len(self.labels)\n",
    "    \n",
    "train_dataset = Dataset(train_encodings, train_labels)\n",
    "valid_dataset = Dataset(valid_encodings, valid_labels)\n",
    "test_dataset = Dataset(test_encodings, test_labels)\n"
   ]
  },
  {
   "cell_type": "code",
   "execution_count": 9,
   "metadata": {},
   "outputs": [
    {
     "name": "stderr",
     "output_type": "stream",
     "text": [
      "Some weights of the model checkpoint at distilbert-base-uncased were not used when initializing DistilBertForSequenceClassification: ['vocab_transform.bias', 'vocab_projector.bias', 'vocab_projector.weight', 'vocab_transform.weight', 'vocab_layer_norm.weight', 'vocab_layer_norm.bias']\n",
      "- This IS expected if you are initializing DistilBertForSequenceClassification from the checkpoint of a model trained on another task or with another architecture (e.g. initializing a BertForSequenceClassification model from a BertForPreTraining model).\n",
      "- This IS NOT expected if you are initializing DistilBertForSequenceClassification from the checkpoint of a model that you expect to be exactly identical (initializing a BertForSequenceClassification model from a BertForSequenceClassification model).\n",
      "Some weights of DistilBertForSequenceClassification were not initialized from the model checkpoint at distilbert-base-uncased and are newly initialized: ['pre_classifier.weight', 'classifier.weight', 'pre_classifier.bias', 'classifier.bias']\n",
      "You should probably TRAIN this model on a down-stream task to be able to use it for predictions and inference.\n"
     ]
    }
   ],
   "source": [
    "#Create model\n",
    "from transformers import AutoModelForSequenceClassification\n",
    "model = AutoModelForSequenceClassification.from_pretrained(model_name, num_labels=3)"
   ]
  },
  {
   "cell_type": "code",
   "execution_count": 10,
   "metadata": {},
   "outputs": [],
   "source": [
    "#Define training arguments i.e., hyperparameters\n",
    "from transformers import TrainingArguments, Trainer\n",
    "\n",
    "args = TrainingArguments(\n",
    "    f\"{model_name}_checkpoints\",\n",
    "    evaluation_strategy = \"epoch\",\n",
    "    save_strategy = \"epoch\",\n",
    "    learning_rate=2e-5,\n",
    "    per_device_train_batch_size=16,\n",
    "    per_device_eval_batch_size=16,\n",
    "    num_train_epochs=5,\n",
    "    weight_decay=0.01,\n",
    "    load_best_model_at_end=True,\n",
    "    metric_for_best_model='accuracy',\n",
    ")"
   ]
  },
  {
   "cell_type": "code",
   "execution_count": 11,
   "metadata": {},
   "outputs": [],
   "source": [
    "#Define metrics via compute_metrics function\n",
    "from datasets import load_metric\n",
    "import numpy as np\n",
    "\n",
    "metric1 = load_metric(\"precision\")\n",
    "metric2 = load_metric(\"recall\")\n",
    "metric3 = load_metric(\"f1\")\n",
    "metric4 = load_metric(\"accuracy\")\n",
    "    \n",
    "\n",
    "#def compute_metrics(eval_pred):\n",
    "    #predictions, labels = eval_pred\n",
    "    #predictions = np.argmax(predictions, axis=1)\n",
    "    #return metric.compute(predictions=predictions, references=labels)\n",
    "def compute_metrics(eval_pred):\n",
    "    logits, labels = eval_pred\n",
    "    predictions = np.argmax(logits, axis=-1)\n",
    "    #print(predictions, flush=True)\n",
    "    precision = metric1.compute(predictions=predictions, references=labels, average='weighted')['precision']\n",
    "    recall = metric2.compute(predictions=predictions, references=labels, average='weighted')[\"recall\"]\n",
    "    f1 = metric3.compute(predictions=predictions, references=labels, average='weighted')[\"f1\"]\n",
    "    accuracy = metric4.compute(predictions=predictions, references=labels)[\"accuracy\"]\n",
    "    return {\"eval_accuracy\":accuracy,\"precision\": precision, \"recall\": recall, \"f1\":f1}"
   ]
  },
  {
   "cell_type": "code",
   "execution_count": 12,
   "metadata": {},
   "outputs": [],
   "source": [
    "#Define trainer class\n",
    "trainer = Trainer(\n",
    "    model,\n",
    "    args,\n",
    "    train_dataset=train_dataset,\n",
    "    eval_dataset=valid_dataset,\n",
    "    tokenizer=tokenizer,\n",
    "    compute_metrics=compute_metrics\n",
    ")"
   ]
  },
  {
   "cell_type": "code",
   "execution_count": 13,
   "metadata": {},
   "outputs": [
    {
     "name": "stderr",
     "output_type": "stream",
     "text": [
      "***** Running training *****\n",
      "  Num examples = 2762\n",
      "  Num Epochs = 5\n",
      "  Instantaneous batch size per device = 16\n",
      "  Total train batch size (w. parallel, distributed & accumulation) = 32\n",
      "  Gradient Accumulation steps = 1\n",
      "  Total optimization steps = 435\n",
      "/home/jingyang/anaconda3/envs/olamproject/lib/python3.9/site-packages/torch/nn/parallel/_functions.py:68: UserWarning: Was asked to gather along dimension 0, but all input tensors were scalars; will instead unsqueeze and return a vector.\n",
      "  warnings.warn('Was asked to gather along dimension 0, but all '\n"
     ]
    },
    {
     "data": {
      "text/html": [
       "\n",
       "    <div>\n",
       "      \n",
       "      <progress value='435' max='435' style='width:300px; height:20px; vertical-align: middle;'></progress>\n",
       "      [435/435 01:42, Epoch 5/5]\n",
       "    </div>\n",
       "    <table border=\"1\" class=\"dataframe\">\n",
       "  <thead>\n",
       "    <tr style=\"text-align: left;\">\n",
       "      <th>Epoch</th>\n",
       "      <th>Training Loss</th>\n",
       "      <th>Validation Loss</th>\n",
       "      <th>Accuracy</th>\n",
       "      <th>Precision</th>\n",
       "      <th>Recall</th>\n",
       "      <th>F1</th>\n",
       "    </tr>\n",
       "  </thead>\n",
       "  <tbody>\n",
       "    <tr>\n",
       "      <td>1</td>\n",
       "      <td>No log</td>\n",
       "      <td>0.382302</td>\n",
       "      <td>0.869565</td>\n",
       "      <td>0.867376</td>\n",
       "      <td>0.869565</td>\n",
       "      <td>0.866525</td>\n",
       "    </tr>\n",
       "    <tr>\n",
       "      <td>2</td>\n",
       "      <td>No log</td>\n",
       "      <td>0.256584</td>\n",
       "      <td>0.904348</td>\n",
       "      <td>0.906499</td>\n",
       "      <td>0.904348</td>\n",
       "      <td>0.902184</td>\n",
       "    </tr>\n",
       "    <tr>\n",
       "      <td>3</td>\n",
       "      <td>No log</td>\n",
       "      <td>0.210222</td>\n",
       "      <td>0.927536</td>\n",
       "      <td>0.929300</td>\n",
       "      <td>0.927536</td>\n",
       "      <td>0.927509</td>\n",
       "    </tr>\n",
       "    <tr>\n",
       "      <td>4</td>\n",
       "      <td>No log</td>\n",
       "      <td>0.201508</td>\n",
       "      <td>0.936232</td>\n",
       "      <td>0.936408</td>\n",
       "      <td>0.936232</td>\n",
       "      <td>0.936310</td>\n",
       "    </tr>\n",
       "    <tr>\n",
       "      <td>5</td>\n",
       "      <td>No log</td>\n",
       "      <td>0.208233</td>\n",
       "      <td>0.927536</td>\n",
       "      <td>0.927536</td>\n",
       "      <td>0.927536</td>\n",
       "      <td>0.927536</td>\n",
       "    </tr>\n",
       "  </tbody>\n",
       "</table><p>"
      ],
      "text/plain": [
       "<IPython.core.display.HTML object>"
      ]
     },
     "metadata": {},
     "output_type": "display_data"
    },
    {
     "name": "stderr",
     "output_type": "stream",
     "text": [
      "***** Running Evaluation *****\n",
      "  Num examples = 345\n",
      "  Batch size = 32\n",
      "Saving model checkpoint to distilbert-base-uncased_checkpoints/checkpoint-87\n",
      "Configuration saved in distilbert-base-uncased_checkpoints/checkpoint-87/config.json\n",
      "Model weights saved in distilbert-base-uncased_checkpoints/checkpoint-87/pytorch_model.bin\n",
      "tokenizer config file saved in distilbert-base-uncased_checkpoints/checkpoint-87/tokenizer_config.json\n",
      "Special tokens file saved in distilbert-base-uncased_checkpoints/checkpoint-87/special_tokens_map.json\n",
      "/home/jingyang/anaconda3/envs/olamproject/lib/python3.9/site-packages/torch/nn/parallel/_functions.py:68: UserWarning: Was asked to gather along dimension 0, but all input tensors were scalars; will instead unsqueeze and return a vector.\n",
      "  warnings.warn('Was asked to gather along dimension 0, but all '\n",
      "***** Running Evaluation *****\n",
      "  Num examples = 345\n",
      "  Batch size = 32\n",
      "Saving model checkpoint to distilbert-base-uncased_checkpoints/checkpoint-174\n",
      "Configuration saved in distilbert-base-uncased_checkpoints/checkpoint-174/config.json\n",
      "Model weights saved in distilbert-base-uncased_checkpoints/checkpoint-174/pytorch_model.bin\n",
      "tokenizer config file saved in distilbert-base-uncased_checkpoints/checkpoint-174/tokenizer_config.json\n",
      "Special tokens file saved in distilbert-base-uncased_checkpoints/checkpoint-174/special_tokens_map.json\n",
      "/home/jingyang/anaconda3/envs/olamproject/lib/python3.9/site-packages/torch/nn/parallel/_functions.py:68: UserWarning: Was asked to gather along dimension 0, but all input tensors were scalars; will instead unsqueeze and return a vector.\n",
      "  warnings.warn('Was asked to gather along dimension 0, but all '\n",
      "***** Running Evaluation *****\n",
      "  Num examples = 345\n",
      "  Batch size = 32\n",
      "Saving model checkpoint to distilbert-base-uncased_checkpoints/checkpoint-261\n",
      "Configuration saved in distilbert-base-uncased_checkpoints/checkpoint-261/config.json\n",
      "Model weights saved in distilbert-base-uncased_checkpoints/checkpoint-261/pytorch_model.bin\n",
      "tokenizer config file saved in distilbert-base-uncased_checkpoints/checkpoint-261/tokenizer_config.json\n",
      "Special tokens file saved in distilbert-base-uncased_checkpoints/checkpoint-261/special_tokens_map.json\n",
      "/home/jingyang/anaconda3/envs/olamproject/lib/python3.9/site-packages/torch/nn/parallel/_functions.py:68: UserWarning: Was asked to gather along dimension 0, but all input tensors were scalars; will instead unsqueeze and return a vector.\n",
      "  warnings.warn('Was asked to gather along dimension 0, but all '\n",
      "***** Running Evaluation *****\n",
      "  Num examples = 345\n",
      "  Batch size = 32\n",
      "Saving model checkpoint to distilbert-base-uncased_checkpoints/checkpoint-348\n",
      "Configuration saved in distilbert-base-uncased_checkpoints/checkpoint-348/config.json\n",
      "Model weights saved in distilbert-base-uncased_checkpoints/checkpoint-348/pytorch_model.bin\n",
      "tokenizer config file saved in distilbert-base-uncased_checkpoints/checkpoint-348/tokenizer_config.json\n",
      "Special tokens file saved in distilbert-base-uncased_checkpoints/checkpoint-348/special_tokens_map.json\n",
      "/home/jingyang/anaconda3/envs/olamproject/lib/python3.9/site-packages/torch/nn/parallel/_functions.py:68: UserWarning: Was asked to gather along dimension 0, but all input tensors were scalars; will instead unsqueeze and return a vector.\n",
      "  warnings.warn('Was asked to gather along dimension 0, but all '\n",
      "***** Running Evaluation *****\n",
      "  Num examples = 345\n",
      "  Batch size = 32\n",
      "Saving model checkpoint to distilbert-base-uncased_checkpoints/checkpoint-435\n",
      "Configuration saved in distilbert-base-uncased_checkpoints/checkpoint-435/config.json\n",
      "Model weights saved in distilbert-base-uncased_checkpoints/checkpoint-435/pytorch_model.bin\n",
      "tokenizer config file saved in distilbert-base-uncased_checkpoints/checkpoint-435/tokenizer_config.json\n",
      "Special tokens file saved in distilbert-base-uncased_checkpoints/checkpoint-435/special_tokens_map.json\n",
      "\n",
      "\n",
      "Training completed. Do not forget to share your model on huggingface.co/models =)\n",
      "\n",
      "\n",
      "Loading best model from distilbert-base-uncased_checkpoints/checkpoint-348 (score: 0.936231884057971).\n"
     ]
    },
    {
     "data": {
      "text/plain": [
       "TrainOutput(global_step=435, training_loss=0.21829800660582793, metrics={'train_runtime': 105.3143, 'train_samples_per_second': 131.131, 'train_steps_per_second': 4.13, 'total_flos': 1829407399741440.0, 'train_loss': 0.21829800660582793, 'epoch': 5.0})"
      ]
     },
     "execution_count": 13,
     "metadata": {},
     "output_type": "execute_result"
    }
   ],
   "source": [
    "#train and validate model\n",
    "trainer.train()"
   ]
  },
  {
   "cell_type": "code",
   "execution_count": 14,
   "metadata": {},
   "outputs": [
    {
     "name": "stderr",
     "output_type": "stream",
     "text": [
      "***** Running Prediction *****\n",
      "  Num examples = 346\n",
      "  Batch size = 32\n",
      "/home/jingyang/anaconda3/envs/olamproject/lib/python3.9/site-packages/torch/nn/parallel/_functions.py:68: UserWarning: Was asked to gather along dimension 0, but all input tensors were scalars; will instead unsqueeze and return a vector.\n",
      "  warnings.warn('Was asked to gather along dimension 0, but all '\n"
     ]
    },
    {
     "data": {
      "text/html": [
       "\n",
       "    <div>\n",
       "      \n",
       "      <progress value='11' max='11' style='width:300px; height:20px; vertical-align: middle;'></progress>\n",
       "      [11/11 00:00]\n",
       "    </div>\n",
       "    "
      ],
      "text/plain": [
       "<IPython.core.display.HTML object>"
      ]
     },
     "metadata": {},
     "output_type": "display_data"
    }
   ],
   "source": [
    "#evaluate model on test set\n",
    "preds = trainer.predict(test_dataset)"
   ]
  },
  {
   "cell_type": "code",
   "execution_count": 15,
   "metadata": {},
   "outputs": [
    {
     "data": {
      "text/plain": [
       "array([2, 2, 1, 1, 1, 0, 1, 1, 1, 0, 2, 1, 1, 1, 1, 2, 1, 1, 1, 1, 1, 1,\n",
       "       2, 2, 2, 0, 1, 1, 2, 1, 1, 2, 1, 2, 2, 1, 1, 1, 1, 2, 1, 0, 1, 2,\n",
       "       1, 1, 2, 1, 1, 1, 1, 0, 2, 2, 1, 1, 1, 1, 0, 1, 2, 2, 1, 1, 1, 1,\n",
       "       1, 1, 2, 1, 2, 1, 1, 2, 1, 1, 1, 0, 2, 1, 0, 2, 1, 1, 1, 0, 1, 1,\n",
       "       2, 1, 1, 2, 2, 1, 1, 2, 2, 1, 1, 1, 1, 1, 1, 1, 2, 1, 1, 2, 1, 1,\n",
       "       1, 2, 1, 1, 2, 2, 2, 1, 0, 1, 1, 1, 1, 1, 1, 0, 0, 0, 1, 1, 2, 1,\n",
       "       1, 1, 2, 1, 2, 1, 1, 1, 1, 1, 2, 1, 1, 1, 2, 2, 2, 0, 2, 1, 0, 1,\n",
       "       1, 0, 0, 0, 1, 2, 1, 2, 1, 0, 0, 0, 1, 1, 0, 1, 2, 1, 1, 1, 1, 1,\n",
       "       1, 2, 2, 1, 1, 1, 2, 2, 1, 2, 1, 1, 1, 2, 0, 0, 2, 1, 1, 2, 2, 2,\n",
       "       0, 1, 1, 1, 2, 1, 1, 2, 1, 1, 2, 1, 2, 0, 1, 1, 1, 1, 0, 0, 0, 1,\n",
       "       2, 1, 2, 0, 1, 1, 0, 1, 2, 1, 1, 1, 1, 1, 1, 1, 1, 2, 1, 1, 0, 0,\n",
       "       2, 1, 1, 1, 2, 1, 2, 1, 1, 1, 1, 1, 1, 1, 1, 1, 1, 2, 1, 1, 1, 1,\n",
       "       2, 2, 1, 1, 2, 1, 2, 0, 0, 1, 2, 1, 2, 1, 1, 2, 1, 1, 1, 0, 1, 1,\n",
       "       2, 0, 2, 2, 1, 1, 1, 1, 1, 1, 0, 1, 1, 2, 2, 2, 1, 2, 2, 2, 1, 0,\n",
       "       1, 2, 0, 0, 1, 0, 2, 2, 1, 1, 1, 1, 1, 0, 1, 1, 1, 1, 1, 1, 1, 1,\n",
       "       1, 1, 2, 1, 1, 2, 0, 1, 1, 2, 0, 1, 1, 1, 0, 0])"
      ]
     },
     "execution_count": 15,
     "metadata": {},
     "output_type": "execute_result"
    }
   ],
   "source": [
    "logits, labels,_ = preds\n",
    "predictions = np.argmax(logits, axis=-1)\n",
    "predictions"
   ]
  },
  {
   "cell_type": "code",
   "execution_count": 16,
   "metadata": {},
   "outputs": [
    {
     "name": "stdout",
     "output_type": "stream",
     "text": [
      "Accuracy:  0.9335260115606936\n",
      "Precision:  0.8858937726018768\n",
      "Recall:  0.9406310294888786\n",
      "F1:  0.9101125811617871\n"
     ]
    }
   ],
   "source": [
    "#Accuracy, Precision, Recall, F1 calculation\n",
    "from sklearn.metrics import accuracy_score, recall_score, precision_score, f1_score\n",
    "\n",
    "acc = accuracy_score(labels,predictions)\n",
    "prec = precision_score(labels,predictions, average = 'macro')\n",
    "rec = recall_score(labels,predictions, average = 'macro')\n",
    "f1 = f1_score(labels,predictions, average = 'macro')\n",
    "\n",
    "print(\"Accuracy: \", acc)\n",
    "print(\"Precision: \", prec)\n",
    "print(\"Recall: \", rec)\n",
    "print(\"F1: \", f1)"
   ]
  },
  {
   "cell_type": "code",
   "execution_count": 17,
   "metadata": {},
   "outputs": [
    {
     "data": {
      "image/png": "[encoded data removed]",
      "text/plain": [
       "<Figure size 432x288 with 2 Axes>"
      ]
     },
     "metadata": {
      "needs_background": "light"
     },
     "output_type": "display_data"
    }
   ],
   "source": [
    "#Generate confusion matrix\n",
    "from sklearn.metrics import confusion_matrix\n",
    "import seaborn as sns\n",
    "import matplotlib.pyplot as plt     \n",
    "\n",
    "matrix = confusion_matrix(labels,predictions)\n",
    "\n",
    "ax= plt.subplot()\n",
    "sns.heatmap(matrix, annot=True, fmt='g', ax=ax);\n",
    "\n",
    "ax.set_xlabel('Predicted labels');ax.set_ylabel('True labels'); \n",
    "ax.set_title('Confusion Matrix'); \n",
    "ax.xaxis.set_ticklabels(['neg', 'neu', 'pos']); ax.yaxis.set_ticklabels(['neg', 'neu', 'pos']);"
   ]
  },
  {
   "cell_type": "code",
   "execution_count": 18,
   "metadata": {},
   "outputs": [
    {
     "name": "stderr",
     "output_type": "stream",
     "text": [
      "/home/jingyang/anaconda3/envs/olamproject/lib/python3.9/site-packages/sklearn/utils/deprecation.py:86: FutureWarning: Function plot_roc_curve is deprecated; This will be removed in v0.5.0. Please use scikitplot.metrics.plot_roc instead.\n",
      "  warnings.warn(msg, category=FutureWarning)\n"
     ]
    },
    {
     "data": {
      "image/png": "[encoded data removed]",
      "text/plain": [
       "<Figure size 432x288 with 1 Axes>"
      ]
     },
     "metadata": {
      "needs_background": "light"
     },
     "output_type": "display_data"
    }
   ],
   "source": [
    "#Generate ROC curve\n",
    "import scikitplot as skplt\n",
    "import matplotlib.pyplot as plt\n",
    "\n",
    "skplt.metrics.plot_roc_curve(labels, logits)\n",
    "plt.show()"
   ]
  },
  {
   "cell_type": "code",
   "execution_count": null,
   "metadata": {},
   "outputs": [],
   "source": []
  }
 ],
 "metadata": {
  "kernelspec": {
   "display_name": "olamproject",
   "language": "python",
   "name": "olamproject"
  },
  "language_info": {
   "codemirror_mode": {
    "name": "ipython",
    "version": 3
   },
   "file_extension": ".py",
   "mimetype": "text/x-python",
   "name": "python",
   "nbconvert_exporter": "python",
   "pygments_lexer": "ipython3",
   "version": "3.9.7"
  }
 },
 "nbformat": 4,
 "nbformat_minor": 4
}
